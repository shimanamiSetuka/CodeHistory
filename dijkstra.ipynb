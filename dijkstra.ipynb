{
  "nbformat": 4,
  "nbformat_minor": 0,
  "metadata": {
    "colab": {
      "provenance": []
    },
    "kernelspec": {
      "name": "python3",
      "display_name": "Python 3"
    },
    "language_info": {
      "name": "python"
    }
  },
  "cells": [
    {
      "cell_type": "markdown",
      "source": [
        "このプログラフでは、構造の単純な格子状のグラフに対し、確率変化を辺のコストに与える"
      ],
      "metadata": {
        "id": "xnr4H53fym6n"
      }
    },
    {
      "cell_type": "code",
      "execution_count": null,
      "metadata": {
        "id": "_S7BRR3kycmH"
      },
      "outputs": [],
      "source": [
        "import networkx as nx\n",
        "from networkx import DiGraph\n",
        "import matplotlib.pyplot as plt\n",
        "from numpy import array\n",
        "import numpy as np\n",
        "from heapq import heappush, heappop\n",
        "from itertools import count\n",
        "import requests\n",
        "import pprint\n",
        "from heapdict import heapdict\n",
        "import random"
      ]
    },
    {
      "cell_type": "code",
      "source": [
        "def arrival_func(interval, velocity, distance): #Gの各辺に上記の変数を属性として持たせる関数\n",
        "  n = len(interval)\n",
        "  b = [] #その時点での経過時間\n",
        "  a = [] #速度によって進む区間か止まる区間か1,0を乗算することで分ける\n",
        "  for i,t in enumerate(interval): #iは何回目のループか tはそのループで計算する時間帯\n",
        "    #待ちなしの場合\n",
        "    b.append( interval[i] + distance[i]/velocity[i]) # start time + travel time\n",
        "    a.append( 1 )       #aに1が存在する区間は速さに沿って進む 0のときは速さに0が乗算され,その場に留まる\n",
        "\n",
        "  #待ちを表す区間の追加 それぞれのリスト末尾の要素を代入\n",
        "  new_interval, new_b, new_a = [interval[n-1]],[b[n-1]],[a[n-1]]\n",
        "  i = n-1             #このときiにはintervalの区間の数が代入される\n",
        "  while True:\n",
        "    for j in range(i-1,-1,-1):  #i-1から-1を含まない-1を差とする等差数列range\n",
        "      T = b[i] - b[j]   \n",
        "      #Tはi時に出発するコストとj時に出発するときのコストの差\n",
        "      #もちろんjの方が時間帯としては早いため、b[j]の方が小さくTが負になるときは待った方が早いということ\n",
        "\n",
        "      #print(i,j,T)\n",
        "      if T < 0 :#iよりもjのほうが経過時間が長い.よって変更はjが始点以外はなし\n",
        "          if j==0:#区間[0,1]の場合だけ待ち時間を追加\n",
        "            new_interval.append( interval[j])\n",
        "            new_b.append(b[i])\n",
        "            new_a.append(0)\n",
        "          continue\n",
        "      if T ==0: #[j,i]を待ちに変換\n",
        "          #待ちを表す傾き0区間を追加\n",
        "          new_interval.append( interval[j] )\n",
        "          new_b.append(b[i])\n",
        "          new_a.append(0)\n",
        "      elif T < interval[i]-interval[j]:#区間[j,i]で待ちをする\n",
        "          #待ちを表す傾き0の区間を追加\n",
        "          new_interval.append( interval[j]+T )\n",
        "          new_b.append(b[i])\n",
        "          new_a.append(0)\n",
        "          #jで出発する区間を追加\n",
        "          new_interval.append( interval[j] )\n",
        "          new_b.append(b[j])\n",
        "          new_a.append(1)\n",
        "          break                                      #for文から抜ける\n",
        "      else: #区間jをそのまま追加\n",
        "          new_interval.append( interval[j] )\n",
        "          new_b.append(b[j])\n",
        "          new_a.append(1)\n",
        "          break                                      #for文から抜ける\n",
        "    #print(\"j=\",j , new_interval)\n",
        "    i = j\n",
        "    if i ==0:\n",
        "        break    #while文の終了\n",
        "  new_interval.reverse() #それぞれのリストの要素を逆順にする操作\n",
        "  new_b.reverse()\n",
        "  new_a.reverse()\n",
        "  return new_interval, new_b, new_a"
      ],
      "metadata": {
        "id": "sEHVBdiMymMl"
      },
      "execution_count": null,
      "outputs": []
    },
    {
      "cell_type": "code",
      "source": [
        "#export 関数の計算を行い値を求める #引数tは現在時刻を表す\n",
        "def arrival(t, interval, b, a):\n",
        "    flg = \"FALSE\"\n",
        "    for i in range(len(interval)-1):\n",
        "        if t>= interval[i] and t<interval[i+1]: #tが含まれる時間帯を発見\n",
        "            flg =\"TRUE\"\n",
        "            return b[i]+a[i]*(t-interval[i])\n",
        "\n",
        "    if flg == \"FALSE\": #tがintervalに指定した数値を超えたまたは低い場合\n",
        "            return b[-1]+(t-interval[-1])"
      ],
      "metadata": {
        "id": "Pyz1-U78y6Zr"
      },
      "execution_count": null,
      "outputs": []
    },
    {
      "cell_type": "code",
      "source": [
        "#export\n",
        "def plot_arrival(interval, b, a):\n",
        "    plt.figure()\n",
        "    x =  np.arange(0.0, interval[-1]+5, 0.01)   #時間\n",
        "    y = [ arrival(t,interval,b,a) for t in np.arange(0.0, interval[-1]+5, 0.01) ] #arrival関数\n",
        "    plt.plot(x,y )\n",
        "    return plt"
      ],
      "metadata": {
        "id": "iMM1PA7ZzBvi"
      },
      "execution_count": null,
      "outputs": []
    },
    {
      "cell_type": "markdown",
      "source": [
        "変化する候補と確率を与えることで確率を加味した辺の重みが返される関数\n",
        "\n",
        "変化候補のaとb そしてaが選ばれる確率xを引数とする"
      ],
      "metadata": {
        "id": "jANJy1Ehlgh5"
      }
    },
    {
      "cell_type": "code",
      "source": [
        "def pNum(a, b, x):\n",
        "  coin = random.random()\n",
        "\n",
        "  if coin < x: #xの確率を満たすかどうか\n",
        "    answer = a   #xの確率でaがanswerに\n",
        "  else:\n",
        "    answer = b   #1-xの確率でbがanswerに\n",
        "\n",
        "  return answer\n"
      ],
      "metadata": {
        "id": "tSU7aw0NlgJi"
      },
      "execution_count": null,
      "outputs": []
    },
    {
      "cell_type": "code",
      "source": [
        "G = nx.Graph()\n",
        "G.add_weighted_edges_from(\n",
        "    [(\"s\", 1, [pNum(100, 200, 0.8), pNum(100, 200, 0.8), pNum(100, 200, 0.8)]), (\"s\", 3, [pNum(100, 200, 0.8), pNum(100, 200, 0.8), pNum(100, 200, 0.8)]),\n",
        "     (1, 2, [pNum(100, 200, 0.8), pNum(100, 200, 0.8), pNum(100, 200, 0.8)]), (1, 4, [pNum(100, 200, 0.8), pNum(100, 200, 0.8), pNum(100, 200, 0.8)]),\n",
        "     (2, 5, [pNum(100, 200, 0.8), pNum(100, 200, 0.8), pNum(100, 200, 0.8)]),\n",
        "     (3, 4, [pNum(100, 200, 0.8), pNum(100, 200, 0.8), pNum(100, 200, 0.8)]), (3, 6, [pNum(100, 200, 0.8), pNum(100, 200, 0.8), pNum(100, 200, 0.8)]),\n",
        "     (4, 5, [pNum(100, 200, 0.8), pNum(100, 200, 0.8), pNum(100, 200, 0.8)]), (4, 7, [pNum(100, 200, 0.8), pNum(100, 200, 0.8), pNum(100, 200, 0.8)]),\n",
        "     (5, \"t\", [pNum(100, 200, 0.8), pNum(100, 200, 0.8), pNum(100, 200, 0.8)]),\n",
        "     (6, 7, [pNum(100, 200, 0.8), pNum(100, 200, 0.8), pNum(100, 200, 0.8)]),\n",
        "     (7, \"t\", [pNum(100, 200, 0.8), pNum(100, 200, 0.8), pNum(100, 200, 0.8)])] #グラフGの頂点と辺のコストの設定\n",
        ")\n",
        "Vlist = G.nodes     #頂点集合V(G)を定義する\n",
        "Slist = []          #集合Sの初期化\n",
        "interval = [0, 1, 2]  # time interval ここでの0時とは開始時点の時刻のこと\n",
        "velocity = [300, 300, 300]  # velocity\n",
        "for (i, j) in G.edges():\n",
        "  #piecewiseという属性に値を持たせておくイメージ\n",
        "    G[i][j][\"piecewise\"] = arrival_func(interval, velocity, distance=G[i][j][\"weight\"]) "
      ],
      "metadata": {
        "id": "MN9zVQ_IzIz8"
      },
      "execution_count": null,
      "outputs": []
    },
    {
      "cell_type": "code",
      "source": [
        "Vlist = G.nodes\n",
        "print(Vlist)"
      ],
      "metadata": {
        "colab": {
          "base_uri": "https://localhost:8080/"
        },
        "id": "NBVAb9EpE2Y5",
        "outputId": "4cb7bad1-bffc-4d96-dcdb-79eff4f40d62"
      },
      "execution_count": null,
      "outputs": [
        {
          "output_type": "stream",
          "name": "stdout",
          "text": [
            "['s', 1, 3, 2, 4, 5, 6, 7, 't']\n"
          ]
        }
      ]
    },
    {
      "cell_type": "code",
      "source": [
        "\"\"\"\n",
        "G.add_weighted_edges_from(\n",
        "    [(\"s\", 1, 100), (\"s\", 3, 100),\n",
        "     (1, 2, 100), (1, 4, 100),\n",
        "     (2, 5, 100),\n",
        "     (3, 4, 100), (3, 6, 100),\n",
        "     (4, 5, 100), (4, 7, 100),\n",
        "     (5, \"t\", 100),\n",
        "     (6, 7, 100),\n",
        "     (7, \"t\", 100)] #グラフGの頂点と辺のコストの設定\n",
        ")\n",
        "\n",
        "\n",
        "G = nx.Graph()\n",
        "G.add_weighted_edges_from(\n",
        "    [(\"s\", 1, [100, 200, 300]), (\"s\", 3, [100, 200, 300]),\n",
        "     (1, 2, [100, 200, 300]), (1, 4, [100, 200, 300]),\n",
        "     (2, 5, [100, 200, 300]),\n",
        "     (3, 4, [100, 200, 300]), (3, 6, [100, 200, 300]),\n",
        "     (4, 5, [100, 200, 300]), (4, 7, [100, 200, 300]),\n",
        "     (5, \"t\", [100, 200, 300]),\n",
        "     (6, 7, [100, 200, 300]),\n",
        "     (7, \"t\", [100, 200, 300])] #グラフGの頂点と辺のコストの設定\n",
        ")\n",
        "\n",
        "G.add_weighted_edges_from(\n",
        "    [(\"s\", 1, [pNum(100, 200, 0.8), pNum(100, 200, 0.8)]), (\"s\", 3, [pNum(100, 200, 0.8), pNum(100, 200, 0.8)]),\n",
        "     (1, 2, [pNum(100, 200, 0.8), pNum(100, 200, 0.8)]), (1, 4, [pNum(100, 200, 0.8), pNum(100, 200, 0.8)]),\n",
        "     (2, 5, [pNum(100, 200, 0.8), pNum(100, 200, 0.8)]),\n",
        "     (3, 4, [pNum(100, 200, 0.8), pNum(100, 200, 0.8)]), (3, 6, [pNum(100, 200, 0.8), pNum(100, 200, 0.8)]),\n",
        "     (4, 5, [pNum(100, 200, 0.8), pNum(100, 200, 0.8)]), (4, 7, [pNum(100, 200, 0.8), pNum(100, 200, 0.8)]),\n",
        "     (5, \"t\", [pNum(100, 200, 0.8), pNum(100, 200, 0.8)]),\n",
        "     (6, 7, [pNum(100, 200, 0.8), pNum(100, 200, 0.8)]),\n",
        "     (7, \"t\", [pNum(100, 200, 0.8), pNum(100, 200, 0.8)])] #グラフGの頂点と辺のコストの設定\n",
        ")\n",
        "\"\"\""
      ],
      "metadata": {
        "id": "gO4-iZHKNvhk"
      },
      "execution_count": null,
      "outputs": []
    },
    {
      "cell_type": "markdown",
      "source": [
        "グラフGの形を表示する"
      ],
      "metadata": {
        "id": "9cDS1haezpeh"
      }
    },
    {
      "cell_type": "code",
      "source": [
        "edge_labels = {}\n",
        "pos = nx.kamada_kawai_layout(G)\n",
        "for (i, j) in G.edges():\n",
        "    edge_labels[i, j] = f\"{ G[i][j]['weight'] }\"\n",
        "nx.draw_networkx_edge_labels(G, pos=pos, edge_labels=edge_labels)\n",
        "nx.draw(\n",
        "    G, node_size=300, pos=pos, node_color=\"y\", edge_color=\"g\", width=3, with_labels=True\n",
        ")\n",
        "plt.show()"
      ],
      "metadata": {
        "colab": {
          "base_uri": "https://localhost:8080/",
          "height": 248
        },
        "id": "dnU20nXMzr20",
        "outputId": "75fa0acb-6988-4113-d207-c463a8f9952c"
      },
      "execution_count": null,
      "outputs": [
        {
          "output_type": "display_data",
          "data": {
            "text/plain": [
              "<Figure size 432x288 with 1 Axes>"
            ],
            "image/png": "[encoded data removed]"
          },
          "metadata": {}
        }
      ]
    },
    {
      "cell_type": "code",
      "source": [
        "for (i, j) in G.edges:\n",
        "    interval, b, a = G[i][j][\"piecewise\"]\n",
        "    print(i,j)\n",
        "    plot_arrival(interval, b, a)"
      ],
      "metadata": {
        "colab": {
          "base_uri": "https://localhost:8080/",
          "height": 1000
        },
        "id": "iSpFQZ9c_Sqd",
        "outputId": "fc691afb-a503-46cc-bd1c-c15d9d72c4d6"
      },
      "execution_count": null,
      "outputs": [
        {
          "output_type": "stream",
          "name": "stdout",
          "text": [
            "s 1\n",
            "s 3\n",
            "1 2\n",
            "1 4\n",
            "3 4\n",
            "3 6\n",
            "2 5\n",
            "4 5\n",
            "4 7\n",
            "5 t\n",
            "6 7\n",
            "7 t\n"
          ]
        },
        {
          "output_type": "display_data",
          "data": {
            "text/plain": [
              "<Figure size 432x288 with 1 Axes>"
            ],
            "image/png": "[encoded data removed]"
          },
          "metadata": {
            "needs_background": "light"
          }
        },
        {
          "output_type": "display_data",
          "data": {
            "text/plain": [
              "<Figure size 432x288 with 1 Axes>"
            ],
            "image/png": "[encoded data removed]"
          },
          "metadata": {
            "needs_background": "light"
          }
        },
        {
          "output_type": "display_data",
          "data": {
            "text/plain": [
              "<Figure size 432x288 with 1 Axes>"
            ],
            "image/png": "[encoded data removed]"
          },
          "metadata": {
            "needs_background": "light"
          }
        },
        {
          "output_type": "display_data",
          "data": {
            "text/plain": [
              "<Figure size 432x288 with 1 Axes>"
            ],
            "image/png": "[encoded data removed]"
          },
          "metadata": {
            "needs_background": "light"
          }
        },
        {
          "output_type": "display_data",
          "data": {
            "text/plain": [
              "<Figure size 432x288 with 1 Axes>"
            ],
            "image/png": "[encoded data removed]"
          },
          "metadata": {
            "needs_background": "light"
          }
        },
        {
          "output_type": "display_data",
          "data": {
            "text/plain": [
              "<Figure size 432x288 with 1 Axes>"
            ],
            "image/png": "[encoded data removed]"
          },
          "metadata": {
            "needs_background": "light"
          }
        },
        {
          "output_type": "display_data",
          "data": {
            "text/plain": [
              "<Figure size 432x288 with 1 Axes>"
            ],
            "image/png": "[encoded data removed]"
          },
          "metadata": {
            "needs_background": "light"
          }
        },
        {
          "output_type": "display_data",
          "data": {
            "text/plain": [
              "<Figure size 432x288 with 1 Axes>"
            ],
            "image/png": "[encoded data removed]"
          },
          "metadata": {
            "needs_background": "light"
          }
        },
        {
          "output_type": "display_data",
          "data": {
            "text/plain": [
              "<Figure size 432x288 with 1 Axes>"
            ],
            "image/png": "[encoded data removed]"
          },
          "metadata": {
            "needs_background": "light"
          }
        },
        {
          "output_type": "display_data",
          "data": {
            "text/plain": [
              "<Figure size 432x288 with 1 Axes>"
            ],
            "image/png": "[encoded data removed]"
          },
          "metadata": {
            "needs_background": "light"
          }
        },
        {
          "output_type": "display_data",
          "data": {
            "text/plain": [
              "<Figure size 432x288 with 1 Axes>"
            ],
            "image/png": "[encoded data removed]"
          },
          "metadata": {
            "needs_background": "light"
          }
        },
        {
          "output_type": "display_data",
          "data": {
            "text/plain": [
              "<Figure size 432x288 with 1 Axes>"
            ],
            "image/png": "[encoded data removed]"
          },
          "metadata": {
            "needs_background": "light"
          }
        }
      ]
    },
    {
      "cell_type": "code",
      "source": [
        "#ここでのu,vは頂点のこと(u,v)は辺を表す\n",
        "\n",
        "source = \"s\"  #始点\n",
        "target = \"t\"  #終点\n",
        "G_succ = G.succ if G.is_directed() else G.adj#G.有向グラフならG.succが代入され、それ以外はG.adjが代入\n",
        "pred = {source: []}  #頂点における最短経路の一つ前の頂点を記録する辞書\n",
        "paths = {source: [source]} #その頂点までの経路を格納する辞書\n",
        "\n",
        "push = heappush\n",
        "pop = heappop\n",
        "dist = {}  # dictionary of final distances #頂点における最短コスト\n",
        "seen = {source: 0}  #現時点でのその頂点の最短コストを格納する辞書\n",
        "c = count() #要素ごとの出現回数 今回はcが出てくるたびに1増えていく\n",
        "fringe = []  # use heapq with (distance,label) tuples\n",
        "push(fringe, (0, next(c), source)) #優先度付きキューとしてfringeにタプル、要素の組を挿入\n",
        "                                  # 最短コスト,順番にfringeに要素を代入するための指標、どの頂点の組なのか\n",
        "\n",
        "#ここからダイクストラ法の実行が始まる\n",
        "while fringe: #breakするまでループし続ける\n",
        "    (d, _, v) = pop(fringe) #popで取り出されるのは最小値のため、dは頂点に記録された最短コスト、vは頂点vであるということ\n",
        "    Slist.append(v)       #集合Sに頂点vを格納する\n",
        "    if v in dist:             #始点となるvがリストdistに入っていればTRUE\n",
        "        continue  # already searched this node.\n",
        "    dist[v] = d      #頂点Vの最短コストにdを代入する\n",
        "    if set(Slist) == set(Vlist):  #すべての頂点が集合Sに格納されたらwhileループは終了\n",
        "        break\n",
        "\n",
        "    for u, e in G_succ[v].items():   #G_succに格納されたv点から出ていく方向の辺と属性\n",
        "        interval, b, a = G[v][u][\"piecewise\"]\n",
        "        vu_dist = arrival(dist[v], interval, b, a)   #vu_distにはvu間のコストが入る\n",
        "        if u in dist:\n",
        "            if vu_dist < dist[u]:\n",
        "                raise ValueError(\"Contradictory paths found:\", \"negative weights?\")\n",
        "        elif u not in seen or vu_dist < seen[u]:   #seenに既に\n",
        "            seen[u] = vu_dist\n",
        "            push(fringe, (vu_dist, next(c), u))\n",
        "            if paths is not None:  #その頂点までの道が定義されていない場合、定義する\n",
        "                paths[u] = paths[v] + [u]\n",
        "            if pred is not None:  #以降はp[v]の再定義を行う部分\n",
        "                pred[u] = [v]\n",
        "        elif vu_dist == seen[u]:\n",
        "            if pred is not None:\n",
        "                pred[u].append(v)\n",
        "print(pred)    #predには最短経路でその頂点に入る方向の辺の片側の点情報\n",
        "print(dist)    #distには頂点の最短コストが格納される"
      ],
      "metadata": {
        "colab": {
          "base_uri": "https://localhost:8080/"
        },
        "id": "aYwTdewZ_WwD",
        "outputId": "1b30ef85-6bbc-4548-a4a6-e0285bc912c1"
      },
      "execution_count": null,
      "outputs": [
        {
          "output_type": "stream",
          "name": "stdout",
          "text": [
            "{'s': [], 1: ['s'], 3: ['s'], 2: [1], 4: [3], 6: [3], 5: [2, 4], 7: [4], 't': [5, 7]}\n",
            "{'s': 0, 1: 0.3333333333333333, 3: 0.3333333333333333, 2: 0.6666666666666666, 4: 0.6666666666666666, 6: 0.6666666666666666, 5: 1.0, 7: 1.0, 't': 2.3333333333333335}\n"
          ]
        }
      ]
    },
    {
      "cell_type": "code",
      "source": [
        "for i in pred:\n",
        "  if i == \"t\":\n",
        "    print(i)\n",
        "    print(dist[i])\n",
        "    while 1:\n",
        "      print(\"↑\")\n",
        "      print(pred[i])\n",
        "      i = pred[i]\n",
        "      i = i[0]\n",
        "      print(dist[i])\n",
        "\n",
        "      if i == \"s\":\n",
        "        break"
      ],
      "metadata": {
        "colab": {
          "base_uri": "https://localhost:8080/"
        },
        "id": "04HW9bGK_aQt",
        "outputId": "0a2f2267-0229-4dbc-8059-a5ee8a815c09"
      },
      "execution_count": null,
      "outputs": [
        {
          "output_type": "stream",
          "name": "stdout",
          "text": [
            "t\n",
            "2.6666666666666665\n",
            "↑\n",
            "[5]\n",
            "1.1666666666666665\n",
            "↑\n",
            "[2]\n",
            "0.8333333333333333\n",
            "↑\n",
            "[1]\n",
            "0.5\n",
            "↑\n",
            "['s']\n",
            "0\n"
          ]
        }
      ]
    },
    {
      "cell_type": "code",
      "source": [
        "G = nx.Graph()\n",
        "G.add_weighted_edges_from(\n",
        "    [(\"s\", 1, [100, 200, 300]), (\"s\", 3, 100),\n",
        "     (1, 2, 100), (1, 4, 100),\n",
        "     (2, 5, 100),\n",
        "     (3, 4, 100), (3, 6, 100),\n",
        "     (4, 5, 100), (4, 7, 100),\n",
        "     (5, \"t\", 100),\n",
        "     (6, 7, 100),\n",
        "     (7, \"t\", 100)] #グラフGの頂点と辺のコストの設定\n",
        ")"
      ],
      "metadata": {
        "id": "jH0WGjaAMzpk"
      },
      "execution_count": null,
      "outputs": []
    },
    {
      "cell_type": "code",
      "source": [
        "distance=G[\"s\"][1][\"weight\"]"
      ],
      "metadata": {
        "id": "jEtRujLNM4Dh"
      },
      "execution_count": null,
      "outputs": []
    },
    {
      "cell_type": "code",
      "source": [
        "distance"
      ],
      "metadata": {
        "colab": {
          "base_uri": "https://localhost:8080/"
        },
        "id": "WHhr6wptM8UW",
        "outputId": "90ee6f2f-7a70-41e9-a350-c6ab08102a40"
      },
      "execution_count": null,
      "outputs": [
        {
          "output_type": "execute_result",
          "data": {
            "text/plain": [
              "[100, 200, 300]"
            ]
          },
          "metadata": {},
          "execution_count": 20
        }
      ]
    },
    {
      "cell_type": "code",
      "source": [
        "print(pNum(1, 2, 0.5))"
      ],
      "metadata": {
        "colab": {
          "base_uri": "https://localhost:8080/"
        },
        "id": "Bsoe4zRDpHSj",
        "outputId": "68e57f7f-c39a-4f0a-8db0-2412be0d8fdb"
      },
      "execution_count": null,
      "outputs": [
        {
          "output_type": "stream",
          "name": "stdout",
          "text": [
            "2\n"
          ]
        }
      ]
    },
    {
      "cell_type": "markdown",
      "source": [
        "確率を扱うため、何回か探索を繰り返し、算出された経路が確率を考えたうえでの最短経路であると言える"
      ],
      "metadata": {
        "id": "ONellRhob6tO"
      }
    },
    {
      "cell_type": "code",
      "source": [
        "import networkx as nx\n",
        "from networkx import DiGraph\n",
        "import matplotlib.pyplot as plt\n",
        "from numpy import array\n",
        "import numpy as np\n",
        "from heapq import heappush, heappop\n",
        "from itertools import count\n",
        "import requests\n",
        "import pprint\n",
        "from heapdict import heapdict\n",
        "import random"
      ],
      "metadata": {
        "id": "A_GSA80acNxN"
      },
      "execution_count": null,
      "outputs": []
    },
    {
      "cell_type": "code",
      "source": [
        "routelist = [0]\n",
        "countlist = 101*[0]  \n",
        "answerlist = 101*[0]\n",
        "sumdist = {}\n",
        "appearList = {}\n",
        "\n",
        "loop = 10000  #ループさせる回数\n",
        "\n",
        "for _ in range(loop):\n",
        "\n",
        "  G = nx.Graph()\n",
        "  G.add_weighted_edges_from(\n",
        "    [(\"s\", 1, [pNum(100, 200, 0.8), pNum(100, 200, 0.8)]), (\"s\", 3, [pNum(100, 200, 0.8), pNum(100, 200, 0.8)]), (\"s\", 5, [pNum(100, 200, 0.8), pNum(100, 200, 0.8)]), (\"s\", 7, [pNum(100, 200, 0.8), pNum(100, 200, 0.8)]),\n",
        "     (1, 2, [pNum(78.5, 157, 0.8), pNum(78.5, 157, 0.8)]), (1, 8, [pNum(78.5, 157, 0.8), pNum(78.5, 157, 0.8)]), (1, 9, [pNum(100, 200, 0.8), pNum(100, 200, 0.8)]),\n",
        "     (2, 3, [pNum(78.5, 157, 0.8), pNum(78.5, 157, 0.8)]), (2, 10, [pNum(100, 200, 0.8), pNum(100, 200, 0.8)]),\n",
        "     (3, 4, [pNum(78.5, 157, 0.8), pNum(78.5, 157, 0.8)]), (3, 11, [pNum(100, 200, 0.8), pNum(100, 200, 0.8)]),\n",
        "     (4, 5, [pNum(78.5, 157, 0.8), pNum(78.5, 157, 0.8)]), (4, 12, [pNum(100, 200, 0.8), pNum(100, 200, 0.8)]),\n",
        "     (5, 6, [pNum(78.5, 157, 0.8), pNum(78.5, 157, 0.8)]), (5, 13, [pNum(100, 200, 0.8), pNum(100, 200, 0.8)]),\n",
        "     (6, 7, [pNum(78.5, 157, 0.8), pNum(78.5, 157, 0.8)]), (6, 14, [pNum(100, 200, 0.8), pNum(100, 200, 0.8)]),\n",
        "     (7, 8, [pNum(78.5, 157, 0.8), pNum(78.5, 157, 0.8)]), (7, 15, [pNum(100, 200, 0.8), pNum(100, 200, 0.8)]),\n",
        "     (8, \"t\", [pNum(100, 200, 0.8), pNum(100, 200, 0.8)]),\n",
        "     (9, 10, [pNum(157, 314, 0.8), pNum(157, 314, 0.8)]), (9, \"t\", [pNum(157, 314, 0.8), pNum(157, 314, 0.8)]),\n",
        "     (10, 11, [pNum(157, 314, 0.8), pNum(157, 314, 0.8)]),\n",
        "     (11, 12, [pNum(157, 314, 0.8), pNum(157, 314, 0.8)]),\n",
        "     (12, 13, [pNum(157, 314, 0.8), pNum(157, 314, 0.8)]),\n",
        "     (13, 14, [pNum(157, 314, 0.8), pNum(157, 314, 0.8)]),\n",
        "     (14, 15, [pNum(157, 314, 0.8), pNum(157, 314, 0.8)]),\n",
        "     (15, \"t\", [pNum(157, 314, 0.8), pNum(157, 314, 0.8)])] #グラフGの頂点と辺のコストの設定\n",
        "  )\n",
        "\n",
        "\n",
        "  Vlist = G.nodes     #頂点集合V(G)を定義する\n",
        "  Slist = []          #集合Sの初期化\n",
        "  interval = [0, 60]  # time interval ここでの0時とは開始時点の時刻のこと\n",
        "  velocity = [300, 300]  # velocity\n",
        "\n",
        "  for (i, j) in G.edges():\n",
        "  #piecewiseという属性に値を持たせておくイメージ\n",
        "    G[i][j][\"piecewise\"] = arrival_func(interval, velocity, distance=G[i][j][\"weight\"])\n",
        "\n",
        "   \n",
        "  #ここでのu,vは頂点のこと(u,v)は辺を表す\n",
        "\n",
        "  source = \"s\"  #始点\n",
        "  target = \"t\"  #終点\n",
        "  G_succ = G.succ if G.is_directed() else G.adj#G.有向グラフならG.succが代入され、それ以外はG.adjが代入\n",
        "  pred = {source: []}  #頂点における最短経路の一つ前の頂点を記録するリスト\n",
        "  paths = {source: [source]} #\n",
        "\n",
        "  push = heappush\n",
        "  pop = heappop\n",
        "  dist = {}  # dictionary of final distances #頂点における最短コスト\n",
        "  seen = {source: 0}\n",
        "  c = count() #要素ごとの出現回数 今回はcが出てくるたびに1増えていく\n",
        "  fringe = []  # use heapq with (distance,label) tuples\n",
        "  push(fringe, (0, next(c), source))\n",
        "\n",
        "  #ここからダイクストラ法の実行が始まる\n",
        "  while fringe: #breakするまでループし続ける\n",
        "    (d, _, v) = pop(fringe) #dは頂点に記録された最短コスト、vは頂点vであるということ\n",
        "    Slist.append(v)\n",
        "    if v in dist:             #始点となるvがリストdistに入っていれば次のwhileに\n",
        "        continue  # already searched this node.\n",
        "    dist[v] = d      #頂点Vの最短コストを決定する\n",
        "\n",
        "    if v in appearList:   #vがdistに代入されたらカウントする\n",
        "      emp = appearList[v]\n",
        "      appearList[v] = emp + 1\n",
        "    else:\n",
        "      appearList[v] = 1\n",
        "\n",
        "    if v in sumdist:\n",
        "      emp = sumdist[v]\n",
        "      sumdist[v] = emp + d\n",
        "    else:\n",
        "      sumdist[v] = d\n",
        "\n",
        "    if set(Slist) == set(Vlist):  #ゴールに辿り着くとwhileループは終了\n",
        "        break\n",
        "\n",
        "    for u, e in G_succ[v].items():   #G_succに格納されたv点から出ていく方向の辺と属性\n",
        "        interval, b, a = G[v][u][\"piecewise\"]\n",
        "        vu_dist = arrival(dist[v], interval, b, a)   #vu_distにはvu間のコストが入る\n",
        "        if u in dist:\n",
        "           if vu_dist < dist[u]:\n",
        "                raise ValueError(\"Contradictory paths found:\", \"negative weights?\")\n",
        "        elif u not in seen or vu_dist < seen[u]:\n",
        "            seen[u] = vu_dist\n",
        "            push(fringe, (vu_dist, next(c), u))\n",
        "            if paths is not None:\n",
        "                 paths[u] = paths[v] + [u]\n",
        "            if pred is not None:\n",
        "                pred[u] = [v]\n",
        "        elif vu_dist == seen[u]:\n",
        "            if pred is not None:\n",
        "                pred[u].append(v)\n",
        "\n",
        "\n",
        "  for i in pred: #経路を一つの変数に結合する\n",
        "    if i == \"t\":\n",
        "      route = str(i)  #routeには今回の試行の経路を保存する 値の初期化の意味もある\n",
        "      while 1:\n",
        "        route += \"←\"\n",
        "        route += str(pred[i]) #経路を文字列に変換して結合していく\n",
        "        i = pred[i]\n",
        "        i = i[0]\n",
        "\n",
        "        if i == \"s\":\n",
        "            break\n",
        "\n",
        "  judgment = \"FALSE\"\n",
        "  for cn, _ in enumerate(routelist):\n",
        "    if route == routelist[cn]:\n",
        "      countlist[cn] += 1   #リスト内に既に同じ経路が存在した場合算出された回数をカウントする\n",
        "      answerlist[cn] += dist[\"t\"]\n",
        "      judgment = \"TRUE\" \n",
        "      break\n",
        "\n",
        "  if judgment == \"FALSE\":\n",
        "    routelist.append(route)  #routelist内に存在しないため新たに経路を保存する\n",
        "    countlist[cn+1] += 1\n",
        "    answerlist[cn+1] += dist[\"t\"]\n",
        "\n",
        "#ここから結果の整理を行う\n",
        "\n",
        "maxCount = max(countlist)  #最も算出された経路の回数を取得\n",
        "max_index = np.argmax(countlist)  #countlistで最も大きい値の添え字を得る\n",
        "\n",
        "maxRoute = routelist[max_index]  #その添え字のroutelistの経路が最も最短であったということ\n",
        "percent = maxCount/loop\n",
        "\n",
        "print(\"最も最短である確率が高いのは\")\n",
        "print(maxRoute)\n",
        "\n",
        "print(\"今回の試行でこの経路が算出された割合は\")\n",
        "print(percent)\n",
        "\n",
        "print(\"この経路における最短コストの平均は\")\n",
        "#print(answerlist)\n",
        "print(answerlist[max_index]/maxCount)\n",
        "\n",
        "print(\"それぞれの頂点の最短コスト平均\")\n",
        "for key in sumdist.keys():\n",
        "  sum = sumdist[key]\n",
        "  cn = appearList[key]\n",
        "  sumdist[key] = round(sum/loop, 4) #sumdistに格納された値をloopの値で平均をとる\n",
        "\n",
        "print(sumdist) #それぞれの頂点の最短コストが表示される"
      ],
      "metadata": {
        "colab": {
          "base_uri": "https://localhost:8080/"
        },
        "id": "yWGeDBnudSYA",
        "outputId": "42a0860d-f9db-4e06-878d-e1844f7705a5"
      },
      "execution_count": null,
      "outputs": [
        {
          "output_type": "stream",
          "name": "stdout",
          "text": [
            "最も最短である確率が高いのは\n",
            "t←[8]←[1, 7]←['s']\n",
            "今回の試行でこの経路が算出された割合は\n",
            "0.3641\n",
            "この経路における最短コストの平均は\n",
            "0.9619362812413874\n",
            "それぞれの頂点の最短コスト平均\n",
            "{'s': 0.0, 1: 0.4005, 3: 0.3993, 7: 0.3982, 2: 0.6314, 8: 0.6317, 4: 0.6317, 6: 0.6308, 5: 0.4023, 11: 0.7995, 15: 0.7972, 12: 1.0166, 9: 0.8011, 10: 1.0183, 14: 1.0162, 't': 1.0189, 13: 0.8036}\n"
          ]
        }
      ]
    },
    {
      "cell_type": "code",
      "source": [
        "dist"
      ],
      "metadata": {
        "colab": {
          "base_uri": "https://localhost:8080/"
        },
        "id": "5f0E_h3MDx2M",
        "outputId": "21329675-f353-4d62-83eb-09037ac05206"
      },
      "execution_count": null,
      "outputs": [
        {
          "output_type": "execute_result",
          "data": {
            "text/plain": [
              "{'s': 0,\n",
              " 1: 0.3333333333333333,\n",
              " 3: 0.3333333333333333,\n",
              " 5: 0.3333333333333333,\n",
              " 7: 0.3333333333333333,\n",
              " 2: 0.595,\n",
              " 4: 0.595,\n",
              " 6: 0.595,\n",
              " 8: 0.595,\n",
              " 9: 0.6666666666666666,\n",
              " 11: 0.6666666666666666,\n",
              " 13: 0.6666666666666666,\n",
              " 15: 0.6666666666666666,\n",
              " 10: 0.9283333333333332,\n",
              " 12: 0.9283333333333332,\n",
              " 14: 0.9283333333333332,\n",
              " 16: 0.9283333333333332,\n",
              " 17: 1.0,\n",
              " 19: 1.0,\n",
              " 21: 1.0,\n",
              " 18: 1.2616666666666665,\n",
              " 20: 1.2616666666666665,\n",
              " 22: 1.2616666666666665,\n",
              " 23: 1.3333333333333333,\n",
              " 't': 1.5949999999999998}"
            ]
          },
          "metadata": {},
          "execution_count": 13
        }
      ]
    },
    {
      "cell_type": "code",
      "source": [
        "dist"
      ],
      "metadata": {
        "colab": {
          "base_uri": "https://localhost:8080/"
        },
        "id": "eeFWRcg5EobH",
        "outputId": "1ceebaa6-dd84-456f-eb91-8f9e532a0560"
      },
      "execution_count": null,
      "outputs": [
        {
          "output_type": "execute_result",
          "data": {
            "text/plain": [
              "{'s': 0,\n",
              " 1: 0.3333333333333333,\n",
              " 3: 0.3333333333333333,\n",
              " 5: 0.3333333333333333,\n",
              " 2: 0.595,\n",
              " 4: 0.595,\n",
              " 7: 0.6666666666666666,\n",
              " 9: 0.6666666666666666,\n",
              " 11: 0.6666666666666666,\n",
              " 13: 0.6666666666666666,\n",
              " 8: 0.8566666666666667,\n",
              " 6: 0.8566666666666667,\n",
              " 10: 0.9283333333333332,\n",
              " 15: 1.0,\n",
              " 17: 1.0,\n",
              " 19: 1.0,\n",
              " 21: 1.0,\n",
              " 16: 1.19,\n",
              " 14: 1.19,\n",
              " 18: 1.2616666666666665,\n",
              " 12: 1.2616666666666667,\n",
              " 23: 1.3333333333333333,\n",
              " 22: 1.5233333333333332,\n",
              " 't': 1.8566666666666665}"
            ]
          },
          "metadata": {},
          "execution_count": 34
        }
      ]
    },
    {
      "cell_type": "markdown",
      "source": [
        "ある1つの頂点を端点に持つ辺のコストが増加する確率を大きくする\n",
        "\n",
        "この操作をすべての頂点に行うことで、ゴールまでの経路の中で頂点の重要度や点と点のど関係性などが見えてくるはず"
      ],
      "metadata": {
        "id": "YudtoNeuJQ7e"
      }
    },
    {
      "cell_type": "code",
      "source": [
        "for key in sumdist.keys():\n",
        "  print(key)"
      ],
      "metadata": {
        "colab": {
          "base_uri": "https://localhost:8080/"
        },
        "id": "H0zmTumk-_kS",
        "outputId": "05074c1e-c01a-4cd5-f301-864186f3bd50"
      },
      "execution_count": null,
      "outputs": [
        {
          "output_type": "stream",
          "name": "stdout",
          "text": [
            "s\n",
            "3\n",
            "1\n",
            "4\n",
            "6\n",
            "2\n",
            "7\n",
            "5\n",
            "t\n"
          ]
        }
      ]
    },
    {
      "cell_type": "markdown",
      "source": [
        "最短経路のコスト平均を表示できるようにしてもよいかも"
      ],
      "metadata": {
        "id": "nHI6oI5nbFNG"
      }
    },
    {
      "cell_type": "code",
      "source": [
        "print(countlist)"
      ],
      "metadata": {
        "colab": {
          "base_uri": "https://localhost:8080/"
        },
        "id": "4J6DkRkOQid_",
        "outputId": "a1c2922c-aeab-4c39-db27-6ef4d4e391d1"
      },
      "execution_count": null,
      "outputs": [
        {
          "output_type": "stream",
          "name": "stdout",
          "text": [
            "[0, 10, 9, 3, 11, 5, 5, 7, 5, 10, 3, 6, 5, 2, 2, 1, 1, 3, 1, 4, 2, 1, 3, 1, 0, 0, 0, 0, 0, 0, 0, 0, 0, 0, 0, 0, 0, 0, 0, 0, 0, 0, 0, 0, 0, 0, 0, 0, 0, 0, 0, 0, 0, 0, 0, 0, 0, 0, 0, 0, 0, 0, 0, 0, 0, 0, 0, 0, 0, 0, 0, 0, 0, 0, 0, 0, 0, 0, 0, 0, 0, 0, 0, 0, 0, 0, 0, 0, 0, 0, 0, 0, 0, 0, 0, 0, 0, 0, 0, 0, 0]\n"
          ]
        }
      ]
    },
    {
      "cell_type": "code",
      "source": [
        "li = [0, 1, 2, 3]\n",
        "\n",
        "il = [0, 1, 2, 3]\n",
        "\n",
        "if li == il:\n",
        "  print(\"same\")"
      ],
      "metadata": {
        "colab": {
          "base_uri": "https://localhost:8080/"
        },
        "id": "KN3A0mq0havy",
        "outputId": "e4247cb7-b0d6-45d8-a3d9-19471d21475c"
      },
      "execution_count": null,
      "outputs": [
        {
          "output_type": "stream",
          "name": "stdout",
          "text": [
            "same\n"
          ]
        }
      ]
    },
    {
      "cell_type": "code",
      "source": [
        "i = 0\n",
        "\n",
        "hon = [1, 2]\n",
        "\n",
        "s = str(hon[i])\n",
        "\n",
        "print(type(s))"
      ],
      "metadata": {
        "colab": {
          "base_uri": "https://localhost:8080/"
        },
        "id": "xIyuQ-pBEJfa",
        "outputId": "4bc5a69a-80a1-4d39-85b0-39bfb766c611"
      },
      "execution_count": null,
      "outputs": [
        {
          "output_type": "stream",
          "name": "stdout",
          "text": [
            "<class 'str'>\n"
          ]
        }
      ]
    },
    {
      "cell_type": "code",
      "source": [
        "routelist = [0,2]\n",
        "\n",
        "for i , _ in enumerate(routelist):\n",
        "  print(i)\n"
      ],
      "metadata": {
        "colab": {
          "base_uri": "https://localhost:8080/"
        },
        "id": "N6kzl9OsI9H6",
        "outputId": "e296ca73-279d-4a98-fea2-b089c9f5a89b"
      },
      "execution_count": null,
      "outputs": [
        {
          "output_type": "stream",
          "name": "stdout",
          "text": [
            "0\n",
            "1\n"
          ]
        }
      ]
    },
    {
      "cell_type": "code",
      "source": [
        "routelist = [0]\n",
        "countlist = 101*[0]  #動作のためにループ数の1足した数用意する\n",
        "\n",
        "route = \"afaw\"\n",
        "\n",
        "judgment = \"FALSE\"\n",
        "for i, _ in enumerate(routelist):\n",
        "  if route == routelist[i]:\n",
        "     countlist[i] += 1   #リスト内に既に同じ経路が存在した場合算出された回数をカウントする\n",
        "     judgment = \"TRUE\" \n",
        "     break\n",
        "\n",
        "if judgment == \"FALSE\":\n",
        "   routelist.append(route)  #routelist内に存在しないため新たに経路を保存する\n",
        "   countlist[i+1] += 1\n",
        "print(routelist)\n",
        "print(countlist)"
      ],
      "metadata": {
        "colab": {
          "base_uri": "https://localhost:8080/"
        },
        "id": "EzmYzAgqM8E6",
        "outputId": "d8e8b84d-ec54-46da-d709-63b94e574e8d"
      },
      "execution_count": null,
      "outputs": [
        {
          "output_type": "stream",
          "name": "stdout",
          "text": [
            "[0, 'afaw']\n",
            "[0, 1, 0, 0, 0, 0, 0, 0, 0, 0, 0, 0, 0, 0, 0, 0, 0, 0, 0, 0, 0, 0, 0, 0, 0, 0, 0, 0, 0, 0, 0, 0, 0, 0, 0, 0, 0, 0, 0, 0, 0, 0, 0, 0, 0, 0, 0, 0, 0, 0, 0, 0, 0, 0, 0, 0, 0, 0, 0, 0, 0, 0, 0, 0, 0, 0, 0, 0, 0, 0, 0, 0, 0, 0, 0, 0, 0, 0, 0, 0, 0, 0, 0, 0, 0, 0, 0, 0, 0, 0, 0, 0, 0, 0, 0, 0, 0, 0, 0, 0, 0]\n"
          ]
        }
      ]
    },
    {
      "cell_type": "markdown",
      "source": [
        "グラフの形を保存しておく場所"
      ],
      "metadata": {
        "id": "D7wkcd4PzlRD"
      }
    }
  ]
}